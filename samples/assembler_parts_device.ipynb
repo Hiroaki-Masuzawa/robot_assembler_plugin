{
 "cells": [
  {
   "cell_type": "code",
   "execution_count": 1,
   "id": "6c41713e-cbfa-4ebf-9461-6e10a6d18bf5",
   "metadata": {},
   "outputs": [],
   "source": [
    "exec(open('/choreonoid_ws/install/share/irsl_choreonoid/sample/irsl_import.py').read())"
   ]
  },
  {
   "cell_type": "markdown",
   "id": "2f7fcc49-8861-492d-97be-085d0f275dff",
   "metadata": {},
   "source": [
    "# import 他"
   ]
  },
  {
   "cell_type": "code",
   "execution_count": 2,
   "id": "791706ba-3f9f-4a20-b180-08272645a7c9",
   "metadata": {},
   "outputs": [],
   "source": [
    "import cnoid.RobotAssembler\n",
    "proj_dir = '/choreonoid_ws/install/share/choreonoid-2.0/robot_assembler/irsl'\n",
    "dc = DrawCoords(width=5)\n",
    "di = DrawInterface()"
   ]
  },
  {
   "cell_type": "markdown",
   "id": "f1d9eb05-5960-4e29-bd27-61b252601f86",
   "metadata": {},
   "source": [
    "# Settings.yamlのロード"
   ]
  },
  {
   "cell_type": "code",
   "execution_count": 3,
   "id": "4d57a0a7-06e6-45cc-8a25-4dcb1469a065",
   "metadata": {},
   "outputs": [
    {
     "data": {
      "text/plain": [
       "True"
      ]
     },
     "execution_count": 3,
     "metadata": {},
     "output_type": "execute_result"
    }
   ],
   "source": [
    "ras = cnoid.RobotAssembler.RobotAssemblerSettings()\n",
    "ras.parseYaml(proj_dir + '/irsl_assembler_config.yaml')"
   ]
  },
  {
   "cell_type": "markdown",
   "id": "ab354942-4fed-4b8a-9983-12dcbf25eb2f",
   "metadata": {},
   "source": [
    "# パーツ情報の取得"
   ]
  },
  {
   "cell_type": "code",
   "execution_count": 4,
   "id": "6a12f7ae-a3ce-42d0-a2c4-4bb2ce736191",
   "metadata": {},
   "outputs": [],
   "source": [
    "pt = ras.getParts('tof-sensor')"
   ]
  },
  {
   "cell_type": "markdown",
   "id": "4d55d4a4-03ab-4932-ba07-abeca1bd08bc",
   "metadata": {},
   "source": [
    "# 形状の描画"
   ]
  },
  {
   "cell_type": "code",
   "execution_count": 5,
   "id": "d7769ad6-7668-45ae-8281-0acca9736122",
   "metadata": {},
   "outputs": [],
   "source": [
    "vis  = pt.createVisual(proj_dir) ## create visual of parts\n",
    "di.addObject(vis)\n",
    "di.viewAll()"
   ]
  },
  {
   "cell_type": "markdown",
   "id": "9179b256-3c0d-4dbe-b5cf-41c412c27f66",
   "metadata": {},
   "source": [
    "# 基準座標系"
   ]
  },
  {
   "cell_type": "code",
   "execution_count": 6,
   "id": "650aadf9-3e04-46ca-82a2-734357247b64",
   "metadata": {},
   "outputs": [
    {
     "data": {
      "text/plain": [
       "1"
      ]
     },
     "execution_count": 6,
     "metadata": {},
     "output_type": "execute_result"
    }
   ],
   "source": [
    "dc.addCoords(coordinates())"
   ]
  },
  {
   "cell_type": "markdown",
   "id": "0767e4af-ce1d-4102-b526-f20822eec393",
   "metadata": {},
   "source": [
    "# センサ座標系"
   ]
  },
  {
   "cell_type": "code",
   "execution_count": 7,
   "id": "afd629f9-a814-4c78-bb2d-71af81e62f65",
   "metadata": {},
   "outputs": [
    {
     "data": {
      "text/plain": [
       "sensor_local: <coordinates[0x56548947c370] 0 0 0 / 0 0 1 6.12323e-17 >\n",
       "1"
      ]
     },
     "execution_count": 7,
     "metadata": {},
     "output_type": "execute_result"
    }
   ],
   "source": [
    "if pt.number_of_extra_data > 0:\n",
    "    ex = pt.getExtraData(0)\n",
    "    print('sensor_local: {}'.format(ex.coords))\n",
    "    dc.clear()\n",
    "    dc.addCoords(ex.coords)"
   ]
  }
 ],
 "metadata": {
  "kernelspec": {
   "display_name": "Choreonoid",
   "language": "python",
   "name": "choreonoid"
  },
  "language_info": {
   "codemirror_mode": "",
   "file_extension": ".py",
   "mimetype": "text/x-python",
   "name": "python",
   "nbconvert_exporter": "",
   "pygments_lexer": "",
   "version": "3.7"
  }
 },
 "nbformat": 4,
 "nbformat_minor": 5
}
